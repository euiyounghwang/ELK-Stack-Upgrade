{
 "cells": [
  {
   "cell_type": "code",
   "execution_count": 38,
   "id": "ca07da24-6aa5-483e-838f-b355001c722b",
   "metadata": {},
   "outputs": [
    {
     "name": "stdout",
     "output_type": "stream",
     "text": [
      "es-python-push-to_loki\n"
     ]
    }
   ],
   "source": [
    "print(f\"es-python-push-to_loki\")"
   ]
  },
  {
   "cell_type": "code",
   "execution_count": 39,
   "id": "54af575a-9ec6-46da-9380-876db8760ab1",
   "metadata": {},
   "outputs": [],
   "source": [
    "import requests\n",
    "import json\n",
    "import datetime\n",
    "import os\n",
    "import pytz\n",
    "from time import time\n",
    "import sys\n",
    "from dotenv import load_dotenv\n",
    "import warnings\n",
    "warnings.filterwarnings(\"ignore\")"
   ]
  },
  {
   "cell_type": "code",
   "execution_count": 40,
   "id": "821b8e6e-21d8-49fb-9a48-221c8b5a18a8",
   "metadata": {},
   "outputs": [],
   "source": [
    "sys.path.append(r\"C://Users/euiyoung.hwang/Git_Workspace/ELK-Stack-Upgrade/jupyter-workflow/\")"
   ]
  },
  {
   "cell_type": "code",
   "execution_count": 41,
   "id": "0fab5d53-00b8-4b84-9d89-d6c01bb2d25c",
   "metadata": {},
   "outputs": [
    {
     "data": {
      "text/plain": [
       "True"
      ]
     },
     "execution_count": 41,
     "metadata": {},
     "output_type": "execute_result"
    }
   ],
   "source": [
    "''' pip install python-dotenv'''\n",
    "load_dotenv() # will search for .env file in local folder and load variables "
   ]
  },
  {
   "cell_type": "code",
   "execution_count": 42,
   "id": "78143583-128d-4a71-805f-e4edb6720128",
   "metadata": {},
   "outputs": [
    {
     "name": "stdout",
     "output_type": "stream",
     "text": [
      "2025-01-21T15:21:27.749409\n",
      "204\n"
     ]
    }
   ],
   "source": [
    "# curr_datetime = datetime.datetime.now(pytz.timezone('America/Chicago'))\n",
    "curr_datetime = datetime.datetime.now()\n",
    "# curr_datetime = curr_datetime.isoformat('T')\n",
    "curr_datetime = curr_datetime.isoformat()\n",
    "print(curr_datetime)\n",
    "msg = 'On server {host} detected error'.format(host=host)\n",
    "\n",
    "\n",
    "def loki_timestamp():\n",
    "  return f\"{(int(time() * 1_000_000_000))}\"\n",
    "    \n",
    "# push msg log into grafana-loki\n",
    "url = 'https://{}:3100/loki/api/v1/push'.format(os.getenv('LOKI_HOST'))\n",
    "headers = {\n",
    "    'Content-type': 'application/json'\n",
    "}\n",
    "''' 'service': 'prometheus-monitoring-service','message': '[DEV] Services, Alert : True, Issues : Server Active : Green, ES Data Pipline : Red','env': 'PROD' '''\n",
    "title_msg = \"Prometheus-Monitoring-Service - [DEV] OMx db -> No 'Data Pipeline' Process records\"\n",
    "msg = '[PROD] Services, Alert : True, Issues : Server Active : Green, ES Data Pipline : Red'\n",
    "payload = {\n",
    "    'streams': [\n",
    "        {\n",
    "            'stream' : {\n",
    "                'service': 'prometheus-monitoring-service',\n",
    "                \"message\": msg,\n",
    "                \"env\": \"PROD\",\n",
    "                \"logger\" : \"prometheus-logger\",\n",
    "                \"level\" : \"error\"\n",
    "            },\n",
    "            'values': [\n",
    "                [\n",
    "                    loki_timestamp(),\n",
    "                    title_msg\n",
    "                ]\n",
    "            ]\n",
    "        }\n",
    "    ]\n",
    "}\n",
    "# payload = json.dumps(payload)\n",
    "response = requests.post(url, json=payload, headers=headers, verify=False)\n",
    "print(response.status_code)"
   ]
  },
  {
   "cell_type": "code",
   "execution_count": null,
   "id": "f274555b-e7a8-4d65-ad9e-5364f9fa3399",
   "metadata": {},
   "outputs": [],
   "source": []
  },
  {
   "cell_type": "code",
   "execution_count": null,
   "id": "b6dcd87b-fdc6-4226-8828-947b08844b04",
   "metadata": {},
   "outputs": [],
   "source": []
  }
 ],
 "metadata": {
  "kernelspec": {
   "display_name": "Python 3 (ipykernel)",
   "language": "python",
   "name": "python3"
  },
  "language_info": {
   "codemirror_mode": {
    "name": "ipython",
    "version": 3
   },
   "file_extension": ".py",
   "mimetype": "text/x-python",
   "name": "python",
   "nbconvert_exporter": "python",
   "pygments_lexer": "ipython3",
   "version": "3.11.7"
  }
 },
 "nbformat": 4,
 "nbformat_minor": 5
}
