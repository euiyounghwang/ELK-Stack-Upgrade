{
 "cells": [
  {
   "cell_type": "code",
   "execution_count": 95,
   "id": "5736a665-dc90-4c2c-a95f-4d5f5722de15",
   "metadata": {},
   "outputs": [
    {
     "name": "stdout",
     "output_type": "stream",
     "text": [
      "ELK Upgrade Index Validation Logic -> Validate index count for Source/Dest ES cluster\n"
     ]
    }
   ],
   "source": [
    "print(f\"ELK Upgrade Index Validation Logic -> Validate index count for Source/Dest ES cluster\")"
   ]
  },
  {
   "cell_type": "code",
   "execution_count": 96,
   "id": "bdf0e162-5588-4b28-8284-52c4e6b29d44",
   "metadata": {},
   "outputs": [],
   "source": [
    "from elasticsearch import Elasticsearch\n",
    "import os\n",
    "import json"
   ]
  },
  {
   "cell_type": "code",
   "execution_count": 97,
   "id": "4603d3de-8d1d-41cb-9a9e-c139eb22d380",
   "metadata": {},
   "outputs": [],
   "source": [
    "def get_headers():\n",
    "    ''' Elasticsearch Header '''\n",
    "    return {\n",
    "            'Content-type': 'application/json', \n",
    "            'Authorization' : '{}'.format(os.getenv('BASIC_AUTH')),\n",
    "            # 'Connection': 'close'\n",
    "    }"
   ]
  },
  {
   "cell_type": "code",
   "execution_count": 98,
   "id": "5eede370-0f7d-4ec5-9550-a8662797cbab",
   "metadata": {},
   "outputs": [],
   "source": [
    "def get_es_instance(host):\n",
    "    es_client = Elasticsearch(hosts=\"http://{}\".format(host), headers=get_headers(), timeout=5,  verify_certs=False)\n",
    "    return es_client\n",
    "\n",
    "es_obj_s_client = get_es_instance(\"localhost:9201\")\n",
    "es_obj_t_client = get_es_instance(\"localhost:9202\")"
   ]
  },
  {
   "cell_type": "code",
   "execution_count": 99,
   "id": "d209b0eb-09fc-4bcb-9be5-3f650fb19e52",
   "metadata": {},
   "outputs": [],
   "source": [
    "def try_exists_index(es_client, index):\n",
    "    try:\n",
    "        if es_client.indices.exists(index):\n",
    "            return True\n",
    "        return False\n",
    "            \n",
    "    except Exception as e:\n",
    "        # logging.error(e)\n",
    "        print(e)\n",
    "        pass"
   ]
  },
  {
   "cell_type": "code",
   "execution_count": 100,
   "id": "ae90e512-e600-44f6-8548-beb9206b7822",
   "metadata": {},
   "outputs": [
    {
     "name": "stdout",
     "output_type": "stream",
     "text": [
      "{\n",
      "  \"cluster_name\": \"supplychain-logging-dev\",\n",
      "  \"status\": \"green\",\n",
      "  \"timed_out\": false,\n",
      "  \"number_of_nodes\": 4,\n",
      "  \"number_of_data_nodes\": 4,\n",
      "  \"active_primary_shards\": 598,\n",
      "  \"active_shards\": 1198,\n",
      "  \"relocating_shards\": 0,\n",
      "  \"initializing_shards\": 0,\n",
      "  \"unassigned_shards\": 0,\n",
      "  \"delayed_unassigned_shards\": 0,\n",
      "  \"number_of_pending_tasks\": 0,\n",
      "  \"number_of_in_flight_fetch\": 0,\n",
      "  \"task_max_waiting_in_queue_millis\": 0,\n",
      "  \"active_shards_percent_as_number\": 100.0\n",
      "}\n"
     ]
    }
   ],
   "source": [
    "print(json.dumps(es_obj_s_client.cluster.health(), indent=2))"
   ]
  },
  {
   "cell_type": "code",
   "execution_count": 101,
   "id": "7d972dc6-f67e-487c-b58e-0f7440fe38c3",
   "metadata": {},
   "outputs": [
    {
     "name": "stdout",
     "output_type": "stream",
     "text": [
      "{\n",
      "  \"cluster_name\": \"docker-elasticsearch\",\n",
      "  \"status\": \"yellow\",\n",
      "  \"timed_out\": false,\n",
      "  \"number_of_nodes\": 1,\n",
      "  \"number_of_data_nodes\": 1,\n",
      "  \"active_primary_shards\": 74,\n",
      "  \"active_shards\": 74,\n",
      "  \"relocating_shards\": 0,\n",
      "  \"initializing_shards\": 0,\n",
      "  \"unassigned_shards\": 55,\n",
      "  \"delayed_unassigned_shards\": 0,\n",
      "  \"number_of_pending_tasks\": 0,\n",
      "  \"number_of_in_flight_fetch\": 0,\n",
      "  \"task_max_waiting_in_queue_millis\": 0,\n",
      "  \"active_shards_percent_as_number\": 57.36434108527132\n",
      "}\n"
     ]
    }
   ],
   "source": [
    "print(json.dumps(es_obj_t_client.cluster.health(), indent=2))"
   ]
  },
  {
   "cell_type": "code",
   "execution_count": 102,
   "id": "e5ff1fdb-0dd6-413b-9885-eca0120702cf",
   "metadata": {},
   "outputs": [],
   "source": [
    "query = {\n",
    "        # \"_source\": False,\n",
    "\t    'query': {\n",
    "    \t    'match_all': {}\n",
    "        }\n",
    "    }"
   ]
  },
  {
   "cell_type": "code",
   "execution_count": 103,
   "id": "fa81112b-ace5-4cf6-b4b3-370e31b50612",
   "metadata": {},
   "outputs": [],
   "source": [
    "''' extact a list of indices from the source cluster'''\n",
    "source_idx_lists = es_obj_s_client.indices.get(\"*\")\n",
    "# logging.info(json.dumps(source_idx_lists, indent=2))\n",
    "# logging.info(source_idx_lists)"
   ]
  },
  {
   "cell_type": "code",
   "execution_count": 104,
   "id": "309a0d79-bab0-4aae-b564-78025d705547",
   "metadata": {},
   "outputs": [],
   "source": [
    "def compare_docs_source_dest(es_client, es_t_client, source_idx_lists):\n",
    "    is_not_exist_lists, different_doc, all_doc = [], [], []\n",
    "    for each_index in source_idx_lists:\n",
    "        ''' exclude system indices in the source cluster such as .monitoring-es-7-2024.07.12'''\n",
    "        if '.' not in each_index:\n",
    "            res_count_source, res_count_target = 0, 0\n",
    "            ''' compare each index between source cluster and target cluster'''\n",
    "            is_exist = try_exists_index(es_t_client, each_index)\n",
    "            # logging.info(f\"validate index [{each_index}] exsits : results is {is_exist}\")\n",
    "            ''' check the number of count'''\n",
    "            res_count_source = es_client.count(index=each_index, body=query)[\"count\"]\n",
    "            if is_exist:\n",
    "                res_count_target = es_t_client.count(index=each_index, body=query)[\"count\"]\n",
    "            \n",
    "            if res_count_source != res_count_target:\n",
    "                differ_dict = {\n",
    "                                each_index : {\n",
    "                                            \"source_docs\" : \"%s\" % res_count_source,\n",
    "                                            \"target_docs\" : \"%s\" % res_count_target,\n",
    "                                            \"count\" : \"Differ\"\n",
    "                                            }\n",
    "                               }\n",
    "                \n",
    "                different_doc.append(differ_dict)\n",
    "                all_doc.append(differ_dict)\n",
    "            else:\n",
    "                 differ_dict = {\n",
    "                                each_index : {\n",
    "                                            \"source_docs\" : \"%s\" % res_count_source,\n",
    "                                            \"target_docs\" : \"%s\" % res_count_target,\n",
    "                                            \"count\" : \"Same\"\n",
    "                                            }\n",
    "                               }\n",
    "                 all_doc.append(differ_dict)\n",
    "                \n",
    "\n",
    "            # print(res)\n",
    "            if not is_exist:\n",
    "                is_not_exist_lists.append(each_index)\n",
    "\n",
    "    return all_doc, different_doc, is_not_exist_lists"
   ]
  },
  {
   "cell_type": "code",
   "execution_count": 105,
   "id": "dddf446b-f470-4a89-b19a-a08a8a4e003b",
   "metadata": {},
   "outputs": [],
   "source": [
    "all_doc, different_doc, is_not_exist_lists = compare_docs_source_dest(es_obj_s_client, es_obj_t_client, source_idx_lists)\n",
    "# logging.info(different_doc)\n",
    "# print(\"all_doc : {}\".format(json.dumps(all_doc, indent=2)))"
   ]
  },
  {
   "cell_type": "code",
   "execution_count": 106,
   "id": "6dd0f30b-ac6c-40b3-8d61-b80ef17320f1",
   "metadata": {},
   "outputs": [],
   "source": [
    "# print(\"different_doc : {}\".format(json.dumps(different_doc, indent=2)))"
   ]
  },
  {
   "cell_type": "code",
   "execution_count": 107,
   "id": "37163452-b403-435d-9c7e-b74075b6b132",
   "metadata": {},
   "outputs": [],
   "source": [
    "# print(\"is_not_exist_lists : {}\".format(json.dumps(is_not_exist_lists, indent=2)))"
   ]
  }
 ],
 "metadata": {
  "kernelspec": {
   "display_name": "Python 3 (ipykernel)",
   "language": "python",
   "name": "python3"
  },
  "language_info": {
   "codemirror_mode": {
    "name": "ipython",
    "version": 3
   },
   "file_extension": ".py",
   "mimetype": "text/x-python",
   "name": "python",
   "nbconvert_exporter": "python",
   "pygments_lexer": "ipython3",
   "version": "3.11.7"
  }
 },
 "nbformat": 4,
 "nbformat_minor": 5
}
