{
 "cells": [
  {
   "cell_type": "code",
   "execution_count": 26,
   "id": "589a1ba9-3df7-4edc-aea5-bf099ace9cd2",
   "metadata": {},
   "outputs": [
    {
     "name": "stdout",
     "output_type": "stream",
     "text": [
      "ELK Upgrade Index Validation Logic through REST API -> Validate index count for Source/Dest ES cluster\n"
     ]
    }
   ],
   "source": [
    "print(f\"ELK Upgrade Index Validation Logic through REST API -> Validate index count for Source/Dest ES cluster\")"
   ]
  },
  {
   "cell_type": "code",
   "execution_count": 27,
   "id": "271f2075-5253-4dd6-8efc-a65c5cd91541",
   "metadata": {},
   "outputs": [],
   "source": [
    "# Gradio is an open-source Python package that allows you to quickly build a demo or web application for your machine learning model, API, or any arbitrary Python function. \n",
    "# You can then share a link to your demo or web application in just a few seconds using Gradio's built-in sharing features."
   ]
  },
  {
   "cell_type": "code",
   "execution_count": null,
   "id": "0f2e994a-a745-49e4-b9aa-0ea784941c83",
   "metadata": {
    "scrolled": true
   },
   "outputs": [],
   "source": [
    "!pip install gradio\n",
    "!pip install -U email-validator"
   ]
  },
  {
   "cell_type": "code",
   "execution_count": null,
   "id": "e3a84eca-3244-44c4-9219-2fbc280af5dc",
   "metadata": {},
   "outputs": [],
   "source": [
    "import gradio as gr"
   ]
  },
  {
   "cell_type": "code",
   "execution_count": null,
   "id": "c8b547a1-00d2-46e9-918b-ed2289a5b5d5",
   "metadata": {},
   "outputs": [],
   "source": [
    "def user_greeting(name, intensity):\n",
    "    # return \"안녕하세요! \" + name + \"님, 첫 번째 Gradio 애플리케이션에 오신 것을 환영합니다!😎\"\n",
    "    return \"Hello, \" + name + \"!\" * int(intensity)"
   ]
  },
  {
   "cell_type": "code",
   "execution_count": null,
   "id": "a38618c4-75bf-490a-968f-fa68e0f452e2",
   "metadata": {
    "scrolled": true
   },
   "outputs": [],
   "source": [
    "# You can run Gradio in your favorite code editor, Jupyter notebook, Google Colab, or anywhere else you write Python\n",
    "# app = gr.Interface(fn=user_greeting, inputs=\"text\", outputs=\"text\")\n",
    "app = gr.Interface(fn=user_greeting, inputs=[\"text\", \"slider\"], outputs=\"text\")\n",
    "# app.launch()\n",
    "app.launch(share=True)  # Share your demo with just 1 extra parameter 🚀"
   ]
  },
  {
   "cell_type": "code",
   "execution_count": null,
   "id": "04f27a5c-660f-4f66-8f65-054471303faf",
   "metadata": {},
   "outputs": [],
   "source": [
    "from elasticsearch import Elasticsearch\n",
    "import os\n",
    "import json"
   ]
  },
  {
   "cell_type": "code",
   "execution_count": null,
   "id": "c4612e79-254f-47cf-be6c-19bc96afe869",
   "metadata": {},
   "outputs": [],
   "source": [
    "def get_headers():\n",
    "    ''' Elasticsearch Header '''\n",
    "    return {\n",
    "            'Content-type': 'application/json', \n",
    "            'Authorization' : '{}'.format(os.getenv('BASIC_AUTH')),\n",
    "            # 'Connection': 'close'\n",
    "    }"
   ]
  },
  {
   "cell_type": "code",
   "execution_count": null,
   "id": "f8989a04-fea1-4f3a-8bc7-d94d04731f32",
   "metadata": {},
   "outputs": [],
   "source": [
    "es = Elasticsearch(hosts=\"http://localhost:9201\", headers=get_headers(), timeout=5,  verify_certs=False)\n",
    "print(es.cat.health())\n",
    "print(json.dumps(es.cluster.health(), indent=2))"
   ]
  },
  {
   "cell_type": "code",
   "execution_count": null,
   "id": "80f74643-f78c-421a-98f8-237b67d6ccb7",
   "metadata": {},
   "outputs": [],
   "source": [
    "def es_get_health(host):\n",
    "    es_client = Elasticsearch(hosts=\"http://{}\".format(host), headers=get_headers(), timeout=5,  verify_certs=False)\n",
    "    return json.dumps(es_client.cluster.health(), indent=2), es_client.cluster.health()['status']"
   ]
  },
  {
   "cell_type": "code",
   "execution_count": null,
   "id": "36470cdb-f06d-4855-a6ac-aec78c4c0b3f",
   "metadata": {
    "scrolled": true
   },
   "outputs": [],
   "source": [
    "# Gradio is an open-source Python package that allows you to quickly build a demo or web application for your machine learning model, API, or any arbitrary Python function. \n",
    "# You can then share a link to your demo or web application in just a few seconds using Gradio's built-in sharing features.\n",
    "''' https://www.gradio.app/guides/quickstart '''\n",
    "''' https://www.gradio.app/docs/gradio/label '''\n",
    "''' Prerequisite: Gradio requires Python 3.10 or higher. --> We recommend installing Gradio using pip, pip install --upgrade gradio'''\n",
    "# http://127.0.0.1:7880/?__theme=dark\n",
    "# app = gr.Interface(fn=es_get_health, inputs=[\"text\"], outputs=\"text\")\n",
    "with gr.Blocks() as app:\n",
    "    gr.Markdown(\"# ES Cluster Health\")\n",
    "    # es_status = json.loads(es_get_health(\"localhost:9201\"))['status']\n",
    "    label = gr.Label(value = \"\", show_label=True, label=\"ES cluster status\")\n",
    "    gr.Interface(fn=es_get_health, inputs=[\"text\"], outputs=[\"text\", label])\n",
    "        \n",
    "app.launch()"
   ]
  },
  {
   "cell_type": "code",
   "execution_count": null,
   "id": "d7cbcd7a-6b6e-42d7-b592-865048c002b3",
   "metadata": {},
   "outputs": [],
   "source": [
    "# *** Validate the total count of each index between source/dest ES cluster **** "
   ]
  },
  {
   "cell_type": "code",
   "execution_count": null,
   "id": "d3dc6836-dc12-4df7-997f-7565ac0eb18d",
   "metadata": {},
   "outputs": [],
   "source": []
  }
 ],
 "metadata": {
  "kernelspec": {
   "display_name": "Python 3 (ipykernel)",
   "language": "python",
   "name": "python3"
  },
  "language_info": {
   "codemirror_mode": {
    "name": "ipython",
    "version": 3
   },
   "file_extension": ".py",
   "mimetype": "text/x-python",
   "name": "python",
   "nbconvert_exporter": "python",
   "pygments_lexer": "ipython3",
   "version": "3.11.7"
  }
 },
 "nbformat": 4,
 "nbformat_minor": 5
}
