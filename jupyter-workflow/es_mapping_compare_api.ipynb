{
 "cells": [
  {
   "cell_type": "code",
   "execution_count": 1955,
   "id": "9e02f52c-6045-41dd-9387-f2365554f8fb",
   "metadata": {},
   "outputs": [
    {
     "name": "stdout",
     "output_type": "stream",
     "text": [
      "ES Mapping Compare via REST API\n"
     ]
    }
   ],
   "source": [
    "print(f\"ES Mapping Compare via REST API\")"
   ]
  },
  {
   "cell_type": "code",
   "execution_count": 1956,
   "id": "97c2d8fa-4ba3-4127-b9de-0cf16b1ad7a4",
   "metadata": {},
   "outputs": [],
   "source": [
    "#!pip install gradio"
   ]
  },
  {
   "cell_type": "code",
   "execution_count": 1957,
   "id": "bba09ccc-b9bd-439e-b894-e7ad6528432d",
   "metadata": {},
   "outputs": [],
   "source": [
    "import time\n",
    "import gradio as gr"
   ]
  },
  {
   "cell_type": "code",
   "execution_count": 1958,
   "id": "0f07f214-4b57-4a12-8058-3c08b0741282",
   "metadata": {},
   "outputs": [],
   "source": [
    "from elasticsearch import Elasticsearch\n",
    "import os\n",
    "import json\n",
    "import pandas as pd\n",
    "import jsondiff\n",
    "import logging\n",
    "from dotenv import load_dotenv\n",
    "import socket\n",
    "import warnings\n",
    "warnings.filterwarnings(\"ignore\")"
   ]
  },
  {
   "cell_type": "code",
   "execution_count": 1959,
   "id": "00bfaf01-7fb8-4bc9-b066-cb5c3131e59c",
   "metadata": {},
   "outputs": [],
   "source": [
    "js_func = \"\"\"\n",
    "function refresh() {\n",
    "    const url = new URL(window.location);\n",
    "\n",
    "    if (url.searchParams.get('__theme') !== 'dark') {\n",
    "        url.searchParams.set('__theme', 'dark');\n",
    "        window.location.href = url.href;\n",
    "    }\n",
    "}\n",
    "\"\"\""
   ]
  },
  {
   "cell_type": "code",
   "execution_count": 1960,
   "id": "eacdbefb-d1ad-4c70-8676-a894a2f973ce",
   "metadata": {},
   "outputs": [],
   "source": [
    "def get_headers():\n",
    "    ''' Elasticsearch Header '''\n",
    "    return {\n",
    "            'Content-type': 'application/json', \n",
    "            'Authorization' : '{}'.format(os.getenv('BASIC_AUTH')),\n",
    "            # 'Connection': 'close'\n",
    "    }"
   ]
  },
  {
   "cell_type": "code",
   "execution_count": 1961,
   "id": "1649ec7d-47e4-4fe3-944d-8430ec1d6af8",
   "metadata": {},
   "outputs": [],
   "source": [
    "smart_suit_envs = {\n",
    "    \"QA-01\" : \"http://localhost:9201\",\n",
    "    \"QA-22\" : \"http://localhost:9202\"\n",
    "}"
   ]
  },
  {
   "cell_type": "code",
   "execution_count": 1962,
   "id": "bb3fae16-77e8-4db7-aa96-5fb2e094ea2a",
   "metadata": {},
   "outputs": [],
   "source": [
    "def port_verify(port):\n",
    "    sock = socket.socket(socket.AF_INET, socket.SOCK_STREAM)\n",
    "    result = sock.connect_ex(('127.0.0.1',port))\n",
    "    if result == 0:\n",
    "       print(\"Port is open\")\n",
    "    else:\n",
    "       print(\"Port is not open\")\n",
    "    sock.close()"
   ]
  },
  {
   "cell_type": "code",
   "execution_count": 1963,
   "id": "7b96a685-daa0-4deb-a6b7-0a317ddcd970",
   "metadata": {},
   "outputs": [],
   "source": [
    "''' https://www.elastic.co/guide/en/elasticsearch/client/python-api/current/migration.html '''\n",
    "''' In 8.0.0 responses are no longer the raw deserialized response body and instead an object with two properties, meta and body '''\n",
    "def es_get_health(source_es, target_es):\n",
    "    if source_es in smart_suit_envs.keys() and source_es in smart_suit_envs.keys():\n",
    "        es_client = Elasticsearch(hosts=\"{}\".format(smart_suit_envs.get(source_es)), headers=get_headers(), timeout=5,  verify_certs=False)\n",
    "        # return json.dumps(es_client.cluster.health().body, indent=2), es_client.cluster.health()['status']\n",
    "        return json.dumps(es_client.cluster.health(), indent=2), es_client.cluster.health()['status']\n",
    "    else:\n",
    "        return {},{}"
   ]
  },
  {
   "cell_type": "code",
   "execution_count": 1964,
   "id": "d3dc326f-7ceb-4488-a62b-71fb8a483550",
   "metadata": {},
   "outputs": [],
   "source": [
    "def get_es_instance(host):\n",
    "    es_client = Elasticsearch(hosts=\"{}\".format(host), headers=get_headers(), timeout=5,  verify_certs=False)\n",
    "    return es_client\n"
   ]
  },
  {
   "cell_type": "code",
   "execution_count": 1965,
   "id": "5eb96934-5831-493f-89f3-91b8a649e9d1",
   "metadata": {},
   "outputs": [],
   "source": [
    "response = {}\n",
    "all_same_mapping = []"
   ]
  },
  {
   "cell_type": "code",
   "execution_count": 1966,
   "id": "4b47e3f3-5917-4a19-879a-a6018b91778f",
   "metadata": {},
   "outputs": [],
   "source": [
    "def compare_mapping(index_name, diff):\n",
    "    ''' compare diff using jsondiff library '''\n",
    "    if not diff:\n",
    "        all_same_mapping.append(True)\n",
    "        response.update({index_name : {'diff' : 'Same mapping'}})\n",
    "    else:\n",
    "        all_same_mapping.append(False)\n",
    "        response.update({index_name : {'diff' : 'Different mapping', 'result' : diff}})\n",
    "    return response, all_same_mapping"
   ]
  },
  {
   "cell_type": "code",
   "execution_count": 1967,
   "id": "1fe23590-f567-4854-a284-873b761f1db4",
   "metadata": {},
   "outputs": [],
   "source": [
    "def es_version_verify(es_client):\n",
    "    # print(es_client.info()['version']['number'], type(es_client.info()['version']['number']))\n",
    "    ''' if es_client v.5.X '''\n",
    "    if \"5.\" in es_client.info()['version']['number']:\n",
    "        return True\n",
    "    else:\n",
    "        return False"
   ]
  },
  {
   "cell_type": "code",
   "execution_count": 1968,
   "id": "3b1e4b88-5de0-4e13-92c0-0b287f53b4ac",
   "metadata": {},
   "outputs": [],
   "source": [
    "def get_mapping_from_properties(mapping, es_v5=False):\n",
    "    if es_v5:\n",
    "        return {\"properties\" : v2.get(\"properties\") for k, v in mapping.items() for k1, v1 in v.items() for k2, v2 in v1.items() }    \n",
    "    else:\n",
    "        return {'properties': v2 for k, v in target_mapping.items() for k1, v1 in v.items() for k2, v2 in v1.items() }\n",
    "            "
   ]
  },
  {
   "cell_type": "code",
   "execution_count": 1969,
   "id": "ae92824c-f254-4ec5-8ed6-066698860503",
   "metadata": {},
   "outputs": [],
   "source": [
    "def lookup(es_obj_s_client, es_obj_t_client, source_idx_lists):\n",
    "    try:\n",
    "        for index_name in source_idx_lists:\n",
    "            ''' real index '''\n",
    "            if index_name.startswith(\"wx_\") or index_name.startswith(\"om_\") or index_name.startswith(\"es_\") or index_name.startswith(\"archive_es_\"):\n",
    "                print('OKD : {}'.format(index_name))\n",
    "                source_mapping = es_obj_s_client.indices.get_mapping(index=index_name)\n",
    "                target_mapping = es_obj_t_client.indices.get_mapping(index=index_name)\n",
    "\n",
    "                ''' Determin what version of es client is running '''\n",
    "                # print(es_version_verify(es_obj_s_client), es_version_verify(es_obj_t_client))\n",
    "                ''' get es_version as argument '''\n",
    "                # print(f\"source es version : {es_version_verify(es_obj_s_client)}\")\n",
    "                source_mappings = get_mapping_from_properties(source_mapping, es_v5=es_version_verify(es_obj_s_client))\n",
    "                ''' get es_version as argument '''\n",
    "                # print(f\"target es version : {es_version_verify(es_obj_t_client)}\")\n",
    "                target_mappings = get_mapping_from_properties(target_mapping, es_v5=es_version_verify(es_obj_t_client))\n",
    "        \n",
    "                # Compare JSON objects using jsondiff\n",
    "                # diff = jsondiff.diff(source_mappings, target_mappings, marshal=True, syntax=\"symmetric\")\n",
    "                diff = jsondiff.diff(source_mappings, target_mappings, marshal=True)\n",
    "                \n",
    "                ''' Compare mapping the specific index_name between source/target cluster '''\n",
    "                compare_mapping(index_name, diff)\n",
    "    except Exception as e:\n",
    "        # print(e)\n",
    "        pass\n",
    "    "
   ]
  },
  {
   "cell_type": "code",
   "execution_count": 1970,
   "id": "5766b66f-3889-4c3b-9ddf-a27ae81fbbca",
   "metadata": {},
   "outputs": [],
   "source": [
    "def es_mapping_result(source, target):\n",
    "    # print(source, target)\n",
    "    ''' --------------------'''\n",
    "    ''' Compare the custom mappings via the internal functions '''\n",
    "    print(smart_suit_envs.get(source), smart_suit_envs.get(target))\n",
    "    ''' Source cluster '''\n",
    "    es_obj_s_client = get_es_instance(f\"{smart_suit_envs.get(source)}\")\n",
    "    ''' Target cluster '''\n",
    "    es_obj_t_client = get_es_instance(f\"{smart_suit_envs.get(target)}\")\n",
    "\n",
    "    resp = es_obj_s_client.cluster.health()\n",
    "    print(json.dumps(resp, indent=2))\n",
    "\n",
    "    # source_idx_lists = ['om_whorder_02072022_22_2_1']\n",
    "    source_idx_lists = list(es_obj_s_client.indices.get(\"*\"))\n",
    "    # print(source_idx_lists)\n",
    "\n",
    "    ''' lookup all ES indices for compring between two clusters '''\n",
    "    lookup(es_obj_s_client, es_obj_t_client, source_idx_lists)\n",
    "    ''' --------------------'''\n",
    "\n",
    "    ''' --------------------'''\n",
    "    ''' Compare the custom mappings via API'''\n",
    "    \n",
    "    ''' --------------------'''\n",
    "    \n",
    "    return json.dumps(response,indent=2), all(all_same_mapping)"
   ]
  },
  {
   "cell_type": "code",
   "execution_count": 1971,
   "id": "e7f0de69-70e3-4180-918a-930665986e6b",
   "metadata": {},
   "outputs": [],
   "source": [
    "css = \"\"\"\n",
    "#warning {background-color: #FFCCCB}\n",
    ".feedback textarea {font-size: 14px !important}\n",
    "\"\"\""
   ]
  },
  {
   "cell_type": "code",
   "execution_count": 1972,
   "id": "df91136b-4155-4d4a-a2fd-58c958b25242",
   "metadata": {},
   "outputs": [],
   "source": [
    "PORT = 8092"
   ]
  },
  {
   "cell_type": "code",
   "execution_count": 1973,
   "id": "107b125b-8968-4d26-9531-e2791bbdc684",
   "metadata": {},
   "outputs": [
    {
     "name": "stdout",
     "output_type": "stream",
     "text": [
      "Port is open\n"
     ]
    }
   ],
   "source": [
    "port_verify(PORT)"
   ]
  },
  {
   "cell_type": "code",
   "execution_count": 1974,
   "id": "180d79bf-1658-4223-8607-fdbc47c34183",
   "metadata": {},
   "outputs": [
    {
     "name": "stdout",
     "output_type": "stream",
     "text": [
      "{}\n"
     ]
    },
    {
     "data": {
      "text/plain": [
       "' https://www.textcompare.org/ '"
      ]
     },
     "execution_count": 1974,
     "metadata": {},
     "output_type": "execute_result"
    }
   ],
   "source": [
    "''' compare the mappings for a given ES index between the two env’s '''\n",
    "print(json.dumps(response, indent=2))\n",
    "\n",
    "''' I’m not sure if you have an easier way to compare the mappings between two env’s for a given ES index, but this online tool works for me '''\n",
    "''' https://www.textcompare.org/ '''"
   ]
  },
  {
   "cell_type": "code",
   "execution_count": 1975,
   "id": "a62941a6-b653-456a-8577-30e506e5c42e",
   "metadata": {},
   "outputs": [
    {
     "name": "stdout",
     "output_type": "stream",
     "text": [
      "**\n",
      "Same mappings for all indices between None and None?\n",
      "Same Mapping? True\n",
      "**\n"
     ]
    }
   ],
   "source": [
    "print('**')\n",
    "print(f\"Same mappings for all indices between {es_obj_s_client} and {es_obj_t_client}?\")\n",
    "print(f\"Same Mapping? {all(all_same_mapping)}\")\n",
    "print('**')"
   ]
  },
  {
   "cell_type": "code",
   "execution_count": 1976,
   "id": "5ac841bd-889c-4e44-9a2f-9b8fd71a475f",
   "metadata": {
    "scrolled": true
   },
   "outputs": [],
   "source": [
    "# Gradio is an open-source Python package that allows you to quickly build a demo or web application for your machine learning model, API, or any arbitrary Python function. \n",
    "# You can then share a link to your demo or web application in just a few seconds using Gradio's built-in sharing features.\n",
    "''' https://www.gradio.app/guides/quickstart '''\n",
    "''' https://www.gradio.app/docs/gradio/label '''\n",
    "''' Prerequisite: Gradio requires Python 3.10 or higher. --> We recommend installing Gradio using pip, pip install --upgrade gradio'''\n",
    "# http://127.0.0.1:7880/?__theme=dark\n",
    "# app = gr.Interface(fn=es_get_health, inputs=[\"text\"], outputs=\"text\")\n",
    "with gr.Blocks(js=js_func, css=css) as app:\n",
    "    gr.Markdown(\"# Compare the ES Custom Mappings\")\n",
    "    # host = gr.Textbox(value = \"localhost:9201\", show_label=True, label=\"host\", elem_classes=\"feedback\")\n",
    "    source_es =  gr.Dropdown(label=\"Source ES Cluster\", choices=[\"QA-01\", \"Pakistan\"], value=\"QA-01\")\n",
    "    target_es =  gr.Dropdown(label=\"Target ES Cluster\", choices=[\"QA-01\", \"QA-22\"], value=\"QA-22\")\n",
    "    result_es_mapping_json = gr.Textbox(value = \"\", show_label=True, label=\"ES Mapping Json\", elem_classes=\"feedback\")\n",
    "    result_es_mapping = gr.Label(value = \"\", show_label=True, label=\"ES Mapping Result\")\n",
    "    # gr.Interface(fn=es_get_health, inputs=[\"text\"], outputs=[\"text\", result_es_mapping])\n",
    "    # gr.Interface(fn=es_get_health, inputs=[source_es, target_es], outputs=[result_es_mapping_json, result_es_mapping])\n",
    "    gr.Interface(fn=es_mapping_result, inputs=[source_es,target_es], outputs=[result_es_mapping_json, result_es_mapping])\n",
    "        \n",
    "# app.launch(server_port=PORT)"
   ]
  }
 ],
 "metadata": {
  "kernelspec": {
   "display_name": "Python 3 (ipykernel)",
   "language": "python",
   "name": "python3"
  },
  "language_info": {
   "codemirror_mode": {
    "name": "ipython",
    "version": 3
   },
   "file_extension": ".py",
   "mimetype": "text/x-python",
   "name": "python",
   "nbconvert_exporter": "python",
   "pygments_lexer": "ipython3",
   "version": "3.11.7"
  }
 },
 "nbformat": 4,
 "nbformat_minor": 5
}
