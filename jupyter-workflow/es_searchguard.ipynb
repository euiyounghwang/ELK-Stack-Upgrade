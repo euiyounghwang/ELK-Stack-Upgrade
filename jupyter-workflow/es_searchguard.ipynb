{
 "cells": [
  {
   "cell_type": "code",
   "execution_count": 853,
   "id": "1f606b54-1a9f-44d6-9b69-617351457d57",
   "metadata": {},
   "outputs": [
    {
     "name": "stdout",
     "output_type": "stream",
     "text": [
      "** es-search-guard\n"
     ]
    },
    {
     "data": {
      "text/plain": [
       "'  Search Guard Is An Open Source Security Plugin For Elasticsearch  '"
      ]
     },
     "execution_count": 853,
     "metadata": {},
     "output_type": "execute_result"
    }
   ],
   "source": [
    "'''The Jupyter notebook is a web-based notebook environment for interactive computing. \n",
    "The Jupyter Notebook is an open source web application that you can use to create and share documents that \n",
    "contain live code, equations, visualizations, and text.\n",
    "'''\n",
    "print(f\"** es-search-guard\")\n",
    "'''  Search Guard Is An Open Source Security Plugin For Elasticsearch  '''"
   ]
  },
  {
   "cell_type": "code",
   "execution_count": 854,
   "id": "a80b9e95-0f6a-434d-b688-bd93e87964bf",
   "metadata": {},
   "outputs": [],
   "source": [
    "#pip install elasticsearch==7.13.0"
   ]
  },
  {
   "cell_type": "code",
   "execution_count": 855,
   "id": "319db807-cdde-4862-acd6-e1ef1833bdb9",
   "metadata": {},
   "outputs": [],
   "source": [
    "from elasticsearch import Elasticsearch\n",
    "import os\n",
    "import json\n",
    "import sys\n",
    "import pandas as pd\n",
    "from dotenv import load_dotenv\n",
    "import warnings\n",
    "warnings.filterwarnings(\"ignore\")"
   ]
  },
  {
   "cell_type": "code",
   "execution_count": 856,
   "id": "0f4abc2b-f5f0-49fa-9751-daa6eed07153",
   "metadata": {},
   "outputs": [],
   "source": [
    "sys.path.append(r\"C://Users/euiyoung.hwang/Git_Workspace/ELK-Stack-Upgrade/jupyter-workflow/\")"
   ]
  },
  {
   "cell_type": "code",
   "execution_count": 857,
   "id": "4e9194b4-96ae-459c-8cd1-26a498e343a2",
   "metadata": {},
   "outputs": [],
   "source": [
    "# import pytest\n",
    "import ipytest"
   ]
  },
  {
   "cell_type": "code",
   "execution_count": 858,
   "id": "83c80c93-a3e1-4f5d-b65b-94e27e2bcbe2",
   "metadata": {},
   "outputs": [],
   "source": [
    "''' To begin, you need to install pytest and ipytest, a tool designed to run pytest tests directly in Jupyter. Execute the following in a Jupyter cell '''\n",
    "ipytest.autoconfig()"
   ]
  },
  {
   "cell_type": "code",
   "execution_count": 859,
   "id": "0a890dc6-cffe-4710-b7e8-eeddf69490c7",
   "metadata": {},
   "outputs": [
    {
     "data": {
      "text/plain": [
       "True"
      ]
     },
     "execution_count": 859,
     "metadata": {},
     "output_type": "execute_result"
    }
   ],
   "source": [
    "''' pip install python-dotenv'''\n",
    "load_dotenv() # will search for .env file in local folder and load variables "
   ]
  },
  {
   "cell_type": "code",
   "execution_count": 860,
   "id": "fbc05840-7666-4b7b-88b8-a9e31d676bc9",
   "metadata": {},
   "outputs": [],
   "source": [
    "''' The \"Basic\" HTTP authentication scheme is defined in RFC 7617, which transmits credentials as user ID/password pairs, encoded using base64 '''\n",
    "''' Basic Authentication is a method for an HTTP user agent (e.g., a web browser) to provide a username and password when making a request. '''\n",
    "''' You can send the authorization header when making requests and accessing to ES Cluster based on Search-Guard'''\n",
    "''' Basic authentication is a very simple authentication scheme that is built into the HTTP protocol. The client sends HTTP requests with the Authorization header that contains the Basic word '''\n",
    "def get_headers():\n",
    "    ''' Elasticsearch Header '''\n",
    "    return {'Content-type': 'application/json', 'Authorization' : '{}'.format(os.getenv('BASIC_AUTH')), 'Connection': 'close'}"
   ]
  },
  {
   "cell_type": "markdown",
   "id": "a2b3078d-d166-4e72-960b-4073389fba32",
   "metadata": {},
   "source": [
    "### User Authorzation Check via ES cluster with no X-pack\n",
    "* ES Version : ES v.5.6.4\n",
    "* X-pack : Not Installed"
   ]
  },
  {
   "cell_type": "code",
   "execution_count": 861,
   "id": "aacc732b-7f0b-44c3-b0d1-98f0439ebca8",
   "metadata": {},
   "outputs": [],
   "source": [
    "''' Create ES Instance once user credential was added into headers. If it is http-based, even if the header value is sent, it is ignored. '''\n",
    "''' https://www.debugbear.com/basic-auth-header-generator '''\n",
    "''' Call API to DEV ES Cluster '''\n",
    "es = Elasticsearch(hosts=os.getenv('ES_DEV_HOST'), headers=get_headers(), timeout=5,  verify_certs=False)"
   ]
  },
  {
   "cell_type": "code",
   "execution_count": 862,
   "id": "8e3af23a-a58c-43ec-967b-e75c169dfb7b",
   "metadata": {},
   "outputs": [
    {
     "name": "stdout",
     "output_type": "stream",
     "text": [
      "1736217563 21:39:23 supplychain-logging-dev green 4 4 1288 643 0 0 0 0 - 100.0%\n",
      "\n"
     ]
    }
   ],
   "source": [
    "print(es.cat.health())"
   ]
  },
  {
   "cell_type": "code",
   "execution_count": 863,
   "id": "9e5a5cae-0d56-4add-b83b-20d3240e2012",
   "metadata": {},
   "outputs": [
    {
     "name": "stdout",
     "output_type": "stream",
     "text": [
      "{\n",
      "  \"name\": \"supplychain-logging-dev-node-1\",\n",
      "  \"cluster_name\": \"supplychain-logging-dev\",\n",
      "  \"cluster_uuid\": \"uPGEwn_cTKOdfg5x32jHfQ\",\n",
      "  \"version\": {\n",
      "    \"number\": \"5.6.4\",\n",
      "    \"build_hash\": \"8bbedf5\",\n",
      "    \"build_date\": \"2017-10-31T18:55:38.105Z\",\n",
      "    \"build_snapshot\": false,\n",
      "    \"lucene_version\": \"6.6.1\"\n",
      "  },\n",
      "  \"tagline\": \"You Know, for Search\"\n",
      "}\n"
     ]
    }
   ],
   "source": [
    "print(json.dumps(es.info(), indent=2))"
   ]
  },
  {
   "cell_type": "code",
   "execution_count": 864,
   "id": "8932414a-9c81-45ba-8f27-bbe0368d9980",
   "metadata": {},
   "outputs": [
    {
     "name": "stdout",
     "output_type": "stream",
     "text": [
      "es version : 5.6.4\n"
     ]
    }
   ],
   "source": [
    "print(f\"es version : {es.info()['version']['number']}\")"
   ]
  },
  {
   "cell_type": "code",
   "execution_count": 865,
   "id": "77514382-ba84-453e-95f7-afa19c61c494",
   "metadata": {},
   "outputs": [
    {
     "name": "stdout",
     "output_type": "stream",
     "text": [
      "{\n",
      "  \"cluster_name\": \"supplychain-logging-dev\",\n",
      "  \"status\": \"green\",\n",
      "  \"timed_out\": false,\n",
      "  \"number_of_nodes\": 4,\n",
      "  \"number_of_data_nodes\": 4,\n",
      "  \"active_primary_shards\": 643,\n",
      "  \"active_shards\": 1288,\n",
      "  \"relocating_shards\": 0,\n",
      "  \"initializing_shards\": 0,\n",
      "  \"unassigned_shards\": 0,\n",
      "  \"delayed_unassigned_shards\": 0,\n",
      "  \"number_of_pending_tasks\": 0,\n",
      "  \"number_of_in_flight_fetch\": 0,\n",
      "  \"task_max_waiting_in_queue_millis\": 0,\n",
      "  \"active_shards_percent_as_number\": 100.0\n",
      "}\n"
     ]
    },
    {
     "data": {
      "text/html": [
       "<div>\n",
       "<style scoped>\n",
       "    .dataframe tbody tr th:only-of-type {\n",
       "        vertical-align: middle;\n",
       "    }\n",
       "\n",
       "    .dataframe tbody tr th {\n",
       "        vertical-align: top;\n",
       "    }\n",
       "\n",
       "    .dataframe thead th {\n",
       "        text-align: right;\n",
       "    }\n",
       "</style>\n",
       "<table border=\"1\" class=\"dataframe\">\n",
       "  <thead>\n",
       "    <tr style=\"text-align: right;\">\n",
       "      <th></th>\n",
       "      <th>cluster_name</th>\n",
       "      <th>status</th>\n",
       "      <th>timed_out</th>\n",
       "      <th>number_of_nodes</th>\n",
       "      <th>number_of_data_nodes</th>\n",
       "      <th>active_primary_shards</th>\n",
       "      <th>active_shards</th>\n",
       "      <th>relocating_shards</th>\n",
       "      <th>initializing_shards</th>\n",
       "      <th>unassigned_shards</th>\n",
       "      <th>delayed_unassigned_shards</th>\n",
       "      <th>number_of_pending_tasks</th>\n",
       "      <th>number_of_in_flight_fetch</th>\n",
       "      <th>task_max_waiting_in_queue_millis</th>\n",
       "      <th>active_shards_percent_as_number</th>\n",
       "    </tr>\n",
       "  </thead>\n",
       "  <tbody>\n",
       "    <tr>\n",
       "      <th>0</th>\n",
       "      <td>supplychain-logging-dev</td>\n",
       "      <td>green</td>\n",
       "      <td>False</td>\n",
       "      <td>4</td>\n",
       "      <td>4</td>\n",
       "      <td>643</td>\n",
       "      <td>1288</td>\n",
       "      <td>0</td>\n",
       "      <td>0</td>\n",
       "      <td>0</td>\n",
       "      <td>0</td>\n",
       "      <td>0</td>\n",
       "      <td>0</td>\n",
       "      <td>0</td>\n",
       "      <td>100.0</td>\n",
       "    </tr>\n",
       "  </tbody>\n",
       "</table>\n",
       "</div>"
      ],
      "text/plain": [
       "              cluster_name status  timed_out  number_of_nodes  \\\n",
       "0  supplychain-logging-dev  green      False                4   \n",
       "\n",
       "   number_of_data_nodes  active_primary_shards  active_shards  \\\n",
       "0                     4                    643           1288   \n",
       "\n",
       "   relocating_shards  initializing_shards  unassigned_shards  \\\n",
       "0                  0                    0                  0   \n",
       "\n",
       "   delayed_unassigned_shards  number_of_pending_tasks  \\\n",
       "0                          0                        0   \n",
       "\n",
       "   number_of_in_flight_fetch  task_max_waiting_in_queue_millis  \\\n",
       "0                          0                                 0   \n",
       "\n",
       "   active_shards_percent_as_number  \n",
       "0                            100.0  "
      ]
     },
     "metadata": {},
     "output_type": "display_data"
    }
   ],
   "source": [
    "df = pd.DataFrame.from_dict([es.cluster.health()])\n",
    "print(json.dumps(es.cluster.health(), indent=2))\n",
    "display(df)"
   ]
  },
  {
   "cell_type": "markdown",
   "id": "42cf2e1b-1cf7-4f49-b21f-0444aacdd6e4",
   "metadata": {},
   "source": [
    "### User Authentication Check via ES cluster with Search Guard\n",
    "* ES Version : ES v.8.12\n",
    "* X-pack : Search Guard for ES v.8.12"
   ]
  },
  {
   "cell_type": "code",
   "execution_count": 866,
   "id": "7606464f-64ed-414b-bd64-e00598f02d17",
   "metadata": {},
   "outputs": [],
   "source": [
    "import base64"
   ]
  },
  {
   "cell_type": "code",
   "execution_count": 867,
   "id": "25a108e1-f1d9-48a8-9a18-c460263d659f",
   "metadata": {},
   "outputs": [],
   "source": [
    "''' https://www.debugbear.com/basic-auth-header-generator '''\n",
    "''' CASE#1 - Check when headers don't have basic auth info '''\n",
    "es_search_guard = Elasticsearch(hosts=os.getenv('ES_DEV_V8_HOST'), headers=None, timeout=5,  verify_certs=False)"
   ]
  },
  {
   "cell_type": "code",
   "execution_count": 868,
   "id": "30ff1700-7768-4466-8bea-ab46ce246e81",
   "metadata": {},
   "outputs": [
    {
     "name": "stdout",
     "output_type": "stream",
     "text": [
      "AuthenticationException(401, 'Unauthorized')\n"
     ]
    }
   ],
   "source": [
    "''' Getting error 'AuthenticationException(401, 'Unauthorized') '''\n",
    "try:\n",
    "    print(es_search_guard.cat.health())\n",
    "except Exception as e:\n",
    "    print(e)"
   ]
  },
  {
   "cell_type": "code",
   "execution_count": 869,
   "id": "493876cd-b55b-4f54-b09a-7cc4fd35ed9d",
   "metadata": {},
   "outputs": [],
   "source": [
    "''' test base64 encode '''\n",
    "def base64_encode_for_search_guard(id_pass):\n",
    "    ''' format -> <id>:<password> '''\n",
    "    encoded = '{}'.format(base64.b64encode(id_pass.encode('utf-8')).decode())\n",
    "    # print(encoded)\n",
    "    return encoded"
   ]
  },
  {
   "cell_type": "code",
   "execution_count": 870,
   "id": "eb420e33-064e-4309-9769-858c0528db32",
   "metadata": {},
   "outputs": [],
   "source": [
    "''' test base64 decode '''\n",
    "def base64_decode_for_search_guard(id_pass):\n",
    "    ''' format -> <id>:<password> '''\n",
    "    return base64.b64decode(id_pass).decode('utf-8')"
   ]
  },
  {
   "cell_type": "code",
   "execution_count": 871,
   "id": "cef377bb-a0ac-4dbd-85c8-d1679b0f3c3a",
   "metadata": {},
   "outputs": [
    {
     "name": "stdout",
     "output_type": "stream",
     "text": [
      "encoded test : dGVzdDox\n",
      "decoded test : test:1\n"
     ]
    }
   ],
   "source": [
    "''' Generate base64 encode for id:pasword when making request to ES cluster with X-pack '''\n",
    "encoded = base64_encode_for_search_guard('test:1')\n",
    "print(f\"encoded test : {encoded}\")\n",
    "decoded = base64_decode_for_search_guard(encoded)\n",
    "print(f\"decoded test : {decoded}\")"
   ]
  },
  {
   "cell_type": "code",
   "execution_count": 872,
   "id": "c4055a96-7bc9-40e7-a2a9-36e19f1a669a",
   "metadata": {},
   "outputs": [],
   "source": [
    "''' https://www.debugbear.com/basic-auth-header-generator '''\n",
    "''' CASE#2 - Check when headers have wrong basic auth info '''\n",
    "es_search_guard = Elasticsearch(hosts=os.getenv('ES_DEV_V8_HOST'), \n",
    "                                headers={\n",
    "                                    'Content-type': 'application/json', \n",
    "                                    'Authorization' : 'Basic {}'.format(base64_encode_for_search_guard('test:1')), \n",
    "                                    'Connection': 'close'\n",
    "                                }, \n",
    "                                timeout=5,  \n",
    "                                verify_certs=False)"
   ]
  },
  {
   "cell_type": "code",
   "execution_count": 873,
   "id": "3fddb768-dbd8-47bb-a0e9-b0abfa2164a2",
   "metadata": {},
   "outputs": [
    {
     "name": "stdout",
     "output_type": "stream",
     "text": [
      "AuthenticationException(401, 'Unauthorized')\n"
     ]
    }
   ],
   "source": [
    "''' Getting error 'AuthenticationException(401, 'Unauthorized') '''\n",
    "try:\n",
    "    print(es_search_guard.cat.health())\n",
    "except Exception as e:\n",
    "    print(e)"
   ]
  },
  {
   "cell_type": "code",
   "execution_count": 874,
   "id": "60360e7a-18bb-4382-a3be-7d0325731ba4",
   "metadata": {},
   "outputs": [],
   "source": [
    "# print(get_headers())"
   ]
  },
  {
   "cell_type": "code",
   "execution_count": 875,
   "id": "5b3b7eb2-0d00-47a7-90c6-ada2674c309c",
   "metadata": {},
   "outputs": [],
   "source": [
    "''' https://www.debugbear.com/basic-auth-header-generator '''\n",
    "''' CASE#3 - Check when headers have correct basic auth info. Before testing. we need to add a new user with right permission in ES v.8 Cluster '''\n",
    "''' Call to Dev ES Cluster based on ES v.8.12 and Search-Guard as X-pack '''\n",
    "es_search_guard = Elasticsearch(hosts=os.getenv('ES_V8_HOST'), headers=get_headers(), timeout=5,  verify_certs=False)"
   ]
  },
  {
   "cell_type": "code",
   "execution_count": 876,
   "id": "3a4bb18e-ed64-4461-a2ff-52d2300cda38",
   "metadata": {},
   "outputs": [
    {
     "name": "stdout",
     "output_type": "stream",
     "text": [
      "1736217565 02:39:25 supplychain-logging-es8-dev green 3 3 590 294 0 0 0 0 - 100.0%\n",
      "\n",
      "{\n",
      "  \"cluster_name\": \"supplychain-logging-es8-dev\",\n",
      "  \"status\": \"green\",\n",
      "  \"timed_out\": false,\n",
      "  \"number_of_nodes\": 3,\n",
      "  \"number_of_data_nodes\": 3,\n",
      "  \"active_primary_shards\": 294,\n",
      "  \"active_shards\": 590,\n",
      "  \"relocating_shards\": 0,\n",
      "  \"initializing_shards\": 0,\n",
      "  \"unassigned_shards\": 0,\n",
      "  \"delayed_unassigned_shards\": 0,\n",
      "  \"number_of_pending_tasks\": 0,\n",
      "  \"number_of_in_flight_fetch\": 0,\n",
      "  \"task_max_waiting_in_queue_millis\": 0,\n",
      "  \"active_shards_percent_as_number\": 100.0\n",
      "}\n"
     ]
    },
    {
     "data": {
      "text/html": [
       "<div>\n",
       "<style scoped>\n",
       "    .dataframe tbody tr th:only-of-type {\n",
       "        vertical-align: middle;\n",
       "    }\n",
       "\n",
       "    .dataframe tbody tr th {\n",
       "        vertical-align: top;\n",
       "    }\n",
       "\n",
       "    .dataframe thead th {\n",
       "        text-align: right;\n",
       "    }\n",
       "</style>\n",
       "<table border=\"1\" class=\"dataframe\">\n",
       "  <thead>\n",
       "    <tr style=\"text-align: right;\">\n",
       "      <th></th>\n",
       "      <th>cluster_name</th>\n",
       "      <th>status</th>\n",
       "      <th>timed_out</th>\n",
       "      <th>number_of_nodes</th>\n",
       "      <th>number_of_data_nodes</th>\n",
       "      <th>active_primary_shards</th>\n",
       "      <th>active_shards</th>\n",
       "      <th>relocating_shards</th>\n",
       "      <th>initializing_shards</th>\n",
       "      <th>unassigned_shards</th>\n",
       "      <th>delayed_unassigned_shards</th>\n",
       "      <th>number_of_pending_tasks</th>\n",
       "      <th>number_of_in_flight_fetch</th>\n",
       "      <th>task_max_waiting_in_queue_millis</th>\n",
       "      <th>active_shards_percent_as_number</th>\n",
       "    </tr>\n",
       "  </thead>\n",
       "  <tbody>\n",
       "    <tr>\n",
       "      <th>0</th>\n",
       "      <td>supplychain-logging-es8-dev</td>\n",
       "      <td>green</td>\n",
       "      <td>False</td>\n",
       "      <td>3</td>\n",
       "      <td>3</td>\n",
       "      <td>294</td>\n",
       "      <td>590</td>\n",
       "      <td>0</td>\n",
       "      <td>0</td>\n",
       "      <td>0</td>\n",
       "      <td>0</td>\n",
       "      <td>0</td>\n",
       "      <td>0</td>\n",
       "      <td>0</td>\n",
       "      <td>100.0</td>\n",
       "    </tr>\n",
       "  </tbody>\n",
       "</table>\n",
       "</div>"
      ],
      "text/plain": [
       "                  cluster_name status  timed_out  number_of_nodes  \\\n",
       "0  supplychain-logging-es8-dev  green      False                3   \n",
       "\n",
       "   number_of_data_nodes  active_primary_shards  active_shards  \\\n",
       "0                     3                    294            590   \n",
       "\n",
       "   relocating_shards  initializing_shards  unassigned_shards  \\\n",
       "0                  0                    0                  0   \n",
       "\n",
       "   delayed_unassigned_shards  number_of_pending_tasks  \\\n",
       "0                          0                        0   \n",
       "\n",
       "   number_of_in_flight_fetch  task_max_waiting_in_queue_millis  \\\n",
       "0                          0                                 0   \n",
       "\n",
       "   active_shards_percent_as_number  \n",
       "0                            100.0  "
      ]
     },
     "metadata": {},
     "output_type": "display_data"
    }
   ],
   "source": [
    "''' Getting the response correctly '''\n",
    "try:\n",
    "    print(es_search_guard.cat.health())\n",
    "    df = pd.DataFrame.from_dict([es_search_guard.cluster.health()])\n",
    "    print(json.dumps(es_search_guard.cluster.health(), indent=2))\n",
    "    display(df)\n",
    "except Exception as e:\n",
    "    print(e)"
   ]
  },
  {
   "cell_type": "code",
   "execution_count": 877,
   "id": "a9f2d91c-a7b1-41e5-bb2d-a460e4d3671e",
   "metadata": {},
   "outputs": [
    {
     "name": "stdout",
     "output_type": "stream",
     "text": [
      "es version : 8.12.2\n"
     ]
    }
   ],
   "source": [
    "print(f\"es version : {es_search_guard.info()['version']['number']}\")"
   ]
  },
  {
   "cell_type": "code",
   "execution_count": 878,
   "id": "e478ada3-3bce-4b2c-a4f7-2d4f7c80eb2b",
   "metadata": {},
   "outputs": [
    {
     "name": "stdout",
     "output_type": "stream",
     "text": [
      "** Role based User Permission check\n"
     ]
    }
   ],
   "source": [
    "''' Search Guard retrieves the user’s credentials from the request. '''\n",
    "''' Search Guard authorizes the user by retrieving a list of the user’s roles from the configured authorization backend '''\n",
    "print(f\"** Role based User Permission check\")"
   ]
  },
  {
   "cell_type": "code",
   "execution_count": null,
   "id": "42d3c74a-dbae-4ad9-8b53-4dde29d63a6d",
   "metadata": {},
   "outputs": [],
   "source": []
  }
 ],
 "metadata": {
  "kernelspec": {
   "display_name": "Python 3 (ipykernel)",
   "language": "python",
   "name": "python3"
  },
  "language_info": {
   "codemirror_mode": {
    "name": "ipython",
    "version": 3
   },
   "file_extension": ".py",
   "mimetype": "text/x-python",
   "name": "python",
   "nbconvert_exporter": "python",
   "pygments_lexer": "ipython3",
   "version": "3.11.7"
  }
 },
 "nbformat": 4,
 "nbformat_minor": 5
}
